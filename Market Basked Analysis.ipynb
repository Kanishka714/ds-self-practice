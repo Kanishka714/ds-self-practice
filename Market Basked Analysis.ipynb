{
 "cells": [
  {
   "cell_type": "code",
   "execution_count": 1,
   "id": "385be3af",
   "metadata": {},
   "outputs": [
    {
     "name": "stdout",
     "output_type": "stream",
     "text": [
      "Defaulting to user installation because normal site-packages is not writeable\n",
      "Requirement already satisfied: apyori in c:\\users\\it22174444\\appdata\\roaming\\python\\python39\\site-packages (1.1.2)\n",
      "Note: you may need to restart the kernel to use updated packages.\n"
     ]
    }
   ],
   "source": [
    "pip install apyori"
   ]
  },
  {
   "cell_type": "code",
   "execution_count": 2,
   "id": "44c44494",
   "metadata": {},
   "outputs": [],
   "source": [
    "import pandas as pd\n",
    "from apyori import apriori"
   ]
  },
  {
   "cell_type": "code",
   "execution_count": 31,
   "id": "b3f88216",
   "metadata": {},
   "outputs": [],
   "source": [
    "store_data = pd.read_csv(\"store_data.csv\", header=None) #no is because we dont have column names\n"
   ]
  },
  {
   "cell_type": "code",
   "execution_count": 33,
   "id": "ae16603d",
   "metadata": {},
   "outputs": [
    {
     "data": {
      "text/html": [
       "<div>\n",
       "<style scoped>\n",
       "    .dataframe tbody tr th:only-of-type {\n",
       "        vertical-align: middle;\n",
       "    }\n",
       "\n",
       "    .dataframe tbody tr th {\n",
       "        vertical-align: top;\n",
       "    }\n",
       "\n",
       "    .dataframe thead th {\n",
       "        text-align: right;\n",
       "    }\n",
       "</style>\n",
       "<table border=\"1\" class=\"dataframe\">\n",
       "  <thead>\n",
       "    <tr style=\"text-align: right;\">\n",
       "      <th></th>\n",
       "      <th>0</th>\n",
       "      <th>1</th>\n",
       "      <th>2</th>\n",
       "      <th>3</th>\n",
       "      <th>4</th>\n",
       "      <th>5</th>\n",
       "      <th>6</th>\n",
       "      <th>7</th>\n",
       "      <th>8</th>\n",
       "      <th>9</th>\n",
       "      <th>10</th>\n",
       "      <th>11</th>\n",
       "      <th>12</th>\n",
       "      <th>13</th>\n",
       "      <th>14</th>\n",
       "      <th>15</th>\n",
       "      <th>16</th>\n",
       "      <th>17</th>\n",
       "      <th>18</th>\n",
       "      <th>19</th>\n",
       "    </tr>\n",
       "  </thead>\n",
       "  <tbody>\n",
       "    <tr>\n",
       "      <th>0</th>\n",
       "      <td>shrimp</td>\n",
       "      <td>almonds</td>\n",
       "      <td>avocado</td>\n",
       "      <td>vegetables mix</td>\n",
       "      <td>green grapes</td>\n",
       "      <td>whole weat flour</td>\n",
       "      <td>yams</td>\n",
       "      <td>cottage cheese</td>\n",
       "      <td>energy drink</td>\n",
       "      <td>tomato juice</td>\n",
       "      <td>low fat yogurt</td>\n",
       "      <td>green tea</td>\n",
       "      <td>honey</td>\n",
       "      <td>salad</td>\n",
       "      <td>mineral water</td>\n",
       "      <td>salmon</td>\n",
       "      <td>antioxydant juice</td>\n",
       "      <td>frozen smoothie</td>\n",
       "      <td>spinach</td>\n",
       "      <td>olive oil</td>\n",
       "    </tr>\n",
       "    <tr>\n",
       "      <th>1</th>\n",
       "      <td>burgers</td>\n",
       "      <td>meatballs</td>\n",
       "      <td>eggs</td>\n",
       "      <td>NaN</td>\n",
       "      <td>NaN</td>\n",
       "      <td>NaN</td>\n",
       "      <td>NaN</td>\n",
       "      <td>NaN</td>\n",
       "      <td>NaN</td>\n",
       "      <td>NaN</td>\n",
       "      <td>NaN</td>\n",
       "      <td>NaN</td>\n",
       "      <td>NaN</td>\n",
       "      <td>NaN</td>\n",
       "      <td>NaN</td>\n",
       "      <td>NaN</td>\n",
       "      <td>NaN</td>\n",
       "      <td>NaN</td>\n",
       "      <td>NaN</td>\n",
       "      <td>NaN</td>\n",
       "    </tr>\n",
       "    <tr>\n",
       "      <th>2</th>\n",
       "      <td>chutney</td>\n",
       "      <td>NaN</td>\n",
       "      <td>NaN</td>\n",
       "      <td>NaN</td>\n",
       "      <td>NaN</td>\n",
       "      <td>NaN</td>\n",
       "      <td>NaN</td>\n",
       "      <td>NaN</td>\n",
       "      <td>NaN</td>\n",
       "      <td>NaN</td>\n",
       "      <td>NaN</td>\n",
       "      <td>NaN</td>\n",
       "      <td>NaN</td>\n",
       "      <td>NaN</td>\n",
       "      <td>NaN</td>\n",
       "      <td>NaN</td>\n",
       "      <td>NaN</td>\n",
       "      <td>NaN</td>\n",
       "      <td>NaN</td>\n",
       "      <td>NaN</td>\n",
       "    </tr>\n",
       "    <tr>\n",
       "      <th>3</th>\n",
       "      <td>turkey</td>\n",
       "      <td>avocado</td>\n",
       "      <td>NaN</td>\n",
       "      <td>NaN</td>\n",
       "      <td>NaN</td>\n",
       "      <td>NaN</td>\n",
       "      <td>NaN</td>\n",
       "      <td>NaN</td>\n",
       "      <td>NaN</td>\n",
       "      <td>NaN</td>\n",
       "      <td>NaN</td>\n",
       "      <td>NaN</td>\n",
       "      <td>NaN</td>\n",
       "      <td>NaN</td>\n",
       "      <td>NaN</td>\n",
       "      <td>NaN</td>\n",
       "      <td>NaN</td>\n",
       "      <td>NaN</td>\n",
       "      <td>NaN</td>\n",
       "      <td>NaN</td>\n",
       "    </tr>\n",
       "    <tr>\n",
       "      <th>4</th>\n",
       "      <td>mineral water</td>\n",
       "      <td>milk</td>\n",
       "      <td>energy bar</td>\n",
       "      <td>whole wheat rice</td>\n",
       "      <td>green tea</td>\n",
       "      <td>NaN</td>\n",
       "      <td>NaN</td>\n",
       "      <td>NaN</td>\n",
       "      <td>NaN</td>\n",
       "      <td>NaN</td>\n",
       "      <td>NaN</td>\n",
       "      <td>NaN</td>\n",
       "      <td>NaN</td>\n",
       "      <td>NaN</td>\n",
       "      <td>NaN</td>\n",
       "      <td>NaN</td>\n",
       "      <td>NaN</td>\n",
       "      <td>NaN</td>\n",
       "      <td>NaN</td>\n",
       "      <td>NaN</td>\n",
       "    </tr>\n",
       "  </tbody>\n",
       "</table>\n",
       "</div>"
      ],
      "text/plain": [
       "              0          1           2                 3             4   \\\n",
       "0         shrimp    almonds     avocado    vegetables mix  green grapes   \n",
       "1        burgers  meatballs        eggs               NaN           NaN   \n",
       "2        chutney        NaN         NaN               NaN           NaN   \n",
       "3         turkey    avocado         NaN               NaN           NaN   \n",
       "4  mineral water       milk  energy bar  whole wheat rice     green tea   \n",
       "\n",
       "                 5     6               7             8             9   \\\n",
       "0  whole weat flour  yams  cottage cheese  energy drink  tomato juice   \n",
       "1               NaN   NaN             NaN           NaN           NaN   \n",
       "2               NaN   NaN             NaN           NaN           NaN   \n",
       "3               NaN   NaN             NaN           NaN           NaN   \n",
       "4               NaN   NaN             NaN           NaN           NaN   \n",
       "\n",
       "               10         11     12     13             14      15  \\\n",
       "0  low fat yogurt  green tea  honey  salad  mineral water  salmon   \n",
       "1             NaN        NaN    NaN    NaN            NaN     NaN   \n",
       "2             NaN        NaN    NaN    NaN            NaN     NaN   \n",
       "3             NaN        NaN    NaN    NaN            NaN     NaN   \n",
       "4             NaN        NaN    NaN    NaN            NaN     NaN   \n",
       "\n",
       "                  16               17       18         19  \n",
       "0  antioxydant juice  frozen smoothie  spinach  olive oil  \n",
       "1                NaN              NaN      NaN        NaN  \n",
       "2                NaN              NaN      NaN        NaN  \n",
       "3                NaN              NaN      NaN        NaN  \n",
       "4                NaN              NaN      NaN        NaN  "
      ]
     },
     "execution_count": 33,
     "metadata": {},
     "output_type": "execute_result"
    }
   ],
   "source": [
    "store_data.head()"
   ]
  },
  {
   "cell_type": "code",
   "execution_count": 8,
   "id": "076fb90a",
   "metadata": {},
   "outputs": [
    {
     "data": {
      "text/plain": [
       "(7501, 20)"
      ]
     },
     "execution_count": 8,
     "metadata": {},
     "output_type": "execute_result"
    }
   ],
   "source": [
    "store_data.shape"
   ]
  },
  {
   "cell_type": "code",
   "execution_count": 30,
   "id": "dff0301b",
   "metadata": {},
   "outputs": [],
   "source": [
    "records = []"
   ]
  },
  {
   "cell_type": "code",
   "execution_count": 11,
   "id": "60c0fd07",
   "metadata": {},
   "outputs": [],
   "source": [
    "for i in range(1, 7501):\n",
    "    records.append([str(store_data.values[i, j]) for j in range(0, 20)])"
   ]
  },
  {
   "cell_type": "code",
   "execution_count": 27,
   "id": "4763ff80",
   "metadata": {},
   "outputs": [],
   "source": [
    "association_rules = apriori(records, min_support=0.0045, min_confidence=0.2,min_lift=3, min_length=2)\n"
   ]
  },
  {
   "cell_type": "code",
   "execution_count": 28,
   "id": "dfe6e856",
   "metadata": {},
   "outputs": [],
   "source": [
    "association_results = list(association_rules)"
   ]
  },
  {
   "cell_type": "code",
   "execution_count": 29,
   "id": "7e894c86",
   "metadata": {},
   "outputs": [
    {
     "data": {
      "text/plain": [
       "[RelationRecord(items=frozenset({'chicken', 'light cream'}), support=0.004533333333333334, ordered_statistics=[OrderedStatistic(items_base=frozenset({'light cream'}), items_add=frozenset({'chicken'}), confidence=0.2905982905982906, lift=4.843304843304844)]),\n",
       " RelationRecord(items=frozenset({'mushroom cream sauce', 'escalope'}), support=0.005733333333333333, ordered_statistics=[OrderedStatistic(items_base=frozenset({'mushroom cream sauce'}), items_add=frozenset({'escalope'}), confidence=0.30069930069930073, lift=3.7903273197390845)]),\n",
       " RelationRecord(items=frozenset({'pasta', 'escalope'}), support=0.005866666666666667, ordered_statistics=[OrderedStatistic(items_base=frozenset({'pasta'}), items_add=frozenset({'escalope'}), confidence=0.37288135593220345, lift=4.700185158809287)]),\n",
       " RelationRecord(items=frozenset({'herb & pepper', 'ground beef'}), support=0.016, ordered_statistics=[OrderedStatistic(items_base=frozenset({'herb & pepper'}), items_add=frozenset({'ground beef'}), confidence=0.3234501347708895, lift=3.2915549671393096)]),\n",
       " RelationRecord(items=frozenset({'tomato sauce', 'ground beef'}), support=0.005333333333333333, ordered_statistics=[OrderedStatistic(items_base=frozenset({'tomato sauce'}), items_add=frozenset({'ground beef'}), confidence=0.37735849056603776, lift=3.840147461662528)]),\n",
       " RelationRecord(items=frozenset({'whole wheat pasta', 'olive oil'}), support=0.008, ordered_statistics=[OrderedStatistic(items_base=frozenset({'whole wheat pasta'}), items_add=frozenset({'olive oil'}), confidence=0.2714932126696833, lift=4.130221288078346)]),\n",
       " RelationRecord(items=frozenset({'pasta', 'shrimp'}), support=0.005066666666666666, ordered_statistics=[OrderedStatistic(items_base=frozenset({'pasta'}), items_add=frozenset({'shrimp'}), confidence=0.3220338983050848, lift=4.514493901473151)]),\n",
       " RelationRecord(items=frozenset({'chicken', 'light cream', 'nan'}), support=0.004533333333333334, ordered_statistics=[OrderedStatistic(items_base=frozenset({'light cream'}), items_add=frozenset({'chicken', 'nan'}), confidence=0.2905982905982906, lift=4.843304843304844), OrderedStatistic(items_base=frozenset({'light cream', 'nan'}), items_add=frozenset({'chicken'}), confidence=0.2905982905982906, lift=4.843304843304844)]),\n",
       " RelationRecord(items=frozenset({'shrimp', 'frozen vegetables', 'chocolate'}), support=0.005333333333333333, ordered_statistics=[OrderedStatistic(items_base=frozenset({'frozen vegetables', 'chocolate'}), items_add=frozenset({'shrimp'}), confidence=0.23255813953488372, lift=3.260160834601174), OrderedStatistic(items_base=frozenset({'shrimp', 'chocolate'}), items_add=frozenset({'frozen vegetables'}), confidence=0.29629629629629634, lift=3.1080031080031083)]),\n",
       " RelationRecord(items=frozenset({'spaghetti', 'ground beef', 'cooking oil'}), support=0.0048, ordered_statistics=[OrderedStatistic(items_base=frozenset({'ground beef', 'cooking oil'}), items_add=frozenset({'spaghetti'}), confidence=0.5714285714285714, lift=3.281557646029315), OrderedStatistic(items_base=frozenset({'spaghetti', 'cooking oil'}), items_add=frozenset({'ground beef'}), confidence=0.30252100840336127, lift=3.0785719986773534)]),\n",
       " RelationRecord(items=frozenset({'mushroom cream sauce', 'escalope', 'nan'}), support=0.005733333333333333, ordered_statistics=[OrderedStatistic(items_base=frozenset({'mushroom cream sauce'}), items_add=frozenset({'escalope', 'nan'}), confidence=0.30069930069930073, lift=3.7903273197390845), OrderedStatistic(items_base=frozenset({'mushroom cream sauce', 'nan'}), items_add=frozenset({'escalope'}), confidence=0.30069930069930073, lift=3.7903273197390845)]),\n",
       " RelationRecord(items=frozenset({'pasta', 'escalope', 'nan'}), support=0.005866666666666667, ordered_statistics=[OrderedStatistic(items_base=frozenset({'pasta'}), items_add=frozenset({'escalope', 'nan'}), confidence=0.37288135593220345, lift=4.700185158809287), OrderedStatistic(items_base=frozenset({'pasta', 'nan'}), items_add=frozenset({'escalope'}), confidence=0.37288135593220345, lift=4.700185158809287)]),\n",
       " RelationRecord(items=frozenset({'frozen vegetables', 'spaghetti', 'ground beef'}), support=0.008666666666666666, ordered_statistics=[OrderedStatistic(items_base=frozenset({'frozen vegetables', 'spaghetti'}), items_add=frozenset({'ground beef'}), confidence=0.3110047846889952, lift=3.164906221394116)]),\n",
       " RelationRecord(items=frozenset({'frozen vegetables', 'olive oil', 'milk'}), support=0.0048, ordered_statistics=[OrderedStatistic(items_base=frozenset({'frozen vegetables', 'milk'}), items_add=frozenset({'olive oil'}), confidence=0.20338983050847456, lift=3.094165778526489), OrderedStatistic(items_base=frozenset({'frozen vegetables', 'olive oil'}), items_add=frozenset({'milk'}), confidence=0.4235294117647058, lift=3.26797385620915)]),\n",
       " RelationRecord(items=frozenset({'shrimp', 'frozen vegetables', 'mineral water'}), support=0.0072, ordered_statistics=[OrderedStatistic(items_base=frozenset({'shrimp', 'mineral water'}), items_add=frozenset({'frozen vegetables'}), confidence=0.3068181818181818, lift=3.2183725365543547)]),\n",
       " RelationRecord(items=frozenset({'frozen vegetables', 'spaghetti', 'olive oil'}), support=0.005733333333333333, ordered_statistics=[OrderedStatistic(items_base=frozenset({'frozen vegetables', 'spaghetti'}), items_add=frozenset({'olive oil'}), confidence=0.20574162679425836, lift=3.1299436124887174)]),\n",
       " RelationRecord(items=frozenset({'shrimp', 'frozen vegetables', 'spaghetti'}), support=0.006, ordered_statistics=[OrderedStatistic(items_base=frozenset({'frozen vegetables', 'spaghetti'}), items_add=frozenset({'shrimp'}), confidence=0.21531100478468898, lift=3.0183785717479763)]),\n",
       " RelationRecord(items=frozenset({'frozen vegetables', 'spaghetti', 'tomatoes'}), support=0.006666666666666667, ordered_statistics=[OrderedStatistic(items_base=frozenset({'frozen vegetables', 'spaghetti'}), items_add=frozenset({'tomatoes'}), confidence=0.23923444976076555, lift=3.497579674864993), OrderedStatistic(items_base=frozenset({'spaghetti', 'tomatoes'}), items_add=frozenset({'frozen vegetables'}), confidence=0.3184713375796178, lift=3.340608436149837)]),\n",
       " RelationRecord(items=frozenset({'grated cheese', 'spaghetti', 'ground beef'}), support=0.005333333333333333, ordered_statistics=[OrderedStatistic(items_base=frozenset({'grated cheese', 'spaghetti'}), items_add=frozenset({'ground beef'}), confidence=0.3225806451612903, lift=3.282706701098612)]),\n",
       " RelationRecord(items=frozenset({'herb & pepper', 'mineral water', 'ground beef'}), support=0.006666666666666667, ordered_statistics=[OrderedStatistic(items_base=frozenset({'herb & pepper', 'mineral water'}), items_add=frozenset({'ground beef'}), confidence=0.390625, lift=3.975152645861601)]),\n",
       " RelationRecord(items=frozenset({'herb & pepper', 'nan', 'ground beef'}), support=0.016, ordered_statistics=[OrderedStatistic(items_base=frozenset({'herb & pepper'}), items_add=frozenset({'nan', 'ground beef'}), confidence=0.3234501347708895, lift=3.2915549671393096), OrderedStatistic(items_base=frozenset({'herb & pepper', 'nan'}), items_add=frozenset({'ground beef'}), confidence=0.3234501347708895, lift=3.2915549671393096)]),\n",
       " RelationRecord(items=frozenset({'herb & pepper', 'spaghetti', 'ground beef'}), support=0.0064, ordered_statistics=[OrderedStatistic(items_base=frozenset({'herb & pepper', 'spaghetti'}), items_add=frozenset({'ground beef'}), confidence=0.3934426229508197, lift=4.003825878061259)]),\n",
       " RelationRecord(items=frozenset({'milk', 'olive oil', 'ground beef'}), support=0.004933333333333333, ordered_statistics=[OrderedStatistic(items_base=frozenset({'milk', 'ground beef'}), items_add=frozenset({'olive oil'}), confidence=0.22424242424242424, lift=3.411395906324912)]),\n",
       " RelationRecord(items=frozenset({'tomato sauce', 'nan', 'ground beef'}), support=0.005333333333333333, ordered_statistics=[OrderedStatistic(items_base=frozenset({'tomato sauce'}), items_add=frozenset({'nan', 'ground beef'}), confidence=0.37735849056603776, lift=3.840147461662528), OrderedStatistic(items_base=frozenset({'nan', 'tomato sauce'}), items_add=frozenset({'ground beef'}), confidence=0.37735849056603776, lift=3.840147461662528)]),\n",
       " RelationRecord(items=frozenset({'shrimp', 'spaghetti', 'ground beef'}), support=0.006, ordered_statistics=[OrderedStatistic(items_base=frozenset({'shrimp', 'ground beef'}), items_add=frozenset({'spaghetti'}), confidence=0.5232558139534884, lift=3.004914704939635)]),\n",
       " RelationRecord(items=frozenset({'milk', 'spaghetti', 'olive oil'}), support=0.0072, ordered_statistics=[OrderedStatistic(items_base=frozenset({'milk', 'spaghetti'}), items_add=frozenset({'olive oil'}), confidence=0.20300751879699247, lift=3.0883496774390333)]),\n",
       " RelationRecord(items=frozenset({'olive oil', 'mineral water', 'soup'}), support=0.0052, ordered_statistics=[OrderedStatistic(items_base=frozenset({'mineral water', 'soup'}), items_add=frozenset({'olive oil'}), confidence=0.2254335260115607, lift=3.4295161157945335)]),\n",
       " RelationRecord(items=frozenset({'whole wheat pasta', 'olive oil', 'nan'}), support=0.008, ordered_statistics=[OrderedStatistic(items_base=frozenset({'whole wheat pasta'}), items_add=frozenset({'olive oil', 'nan'}), confidence=0.2714932126696833, lift=4.130221288078346), OrderedStatistic(items_base=frozenset({'whole wheat pasta', 'nan'}), items_add=frozenset({'olive oil'}), confidence=0.2714932126696833, lift=4.130221288078346)]),\n",
       " RelationRecord(items=frozenset({'pasta', 'shrimp', 'nan'}), support=0.005066666666666666, ordered_statistics=[OrderedStatistic(items_base=frozenset({'pasta'}), items_add=frozenset({'shrimp', 'nan'}), confidence=0.3220338983050848, lift=4.514493901473151), OrderedStatistic(items_base=frozenset({'pasta', 'nan'}), items_add=frozenset({'shrimp'}), confidence=0.3220338983050848, lift=4.514493901473151)]),\n",
       " RelationRecord(items=frozenset({'olive oil', 'spaghetti', 'pancakes'}), support=0.005066666666666666, ordered_statistics=[OrderedStatistic(items_base=frozenset({'spaghetti', 'pancakes'}), items_add=frozenset({'olive oil'}), confidence=0.20105820105820105, lift=3.0586947422647217)]),\n",
       " RelationRecord(items=frozenset({'shrimp', 'frozen vegetables', 'chocolate', 'nan'}), support=0.005333333333333333, ordered_statistics=[OrderedStatistic(items_base=frozenset({'frozen vegetables', 'chocolate'}), items_add=frozenset({'shrimp', 'nan'}), confidence=0.23255813953488372, lift=3.260160834601174), OrderedStatistic(items_base=frozenset({'shrimp', 'chocolate'}), items_add=frozenset({'frozen vegetables', 'nan'}), confidence=0.29629629629629634, lift=3.1080031080031083), OrderedStatistic(items_base=frozenset({'frozen vegetables', 'chocolate', 'nan'}), items_add=frozenset({'shrimp'}), confidence=0.23255813953488372, lift=3.260160834601174), OrderedStatistic(items_base=frozenset({'shrimp', 'chocolate', 'nan'}), items_add=frozenset({'frozen vegetables'}), confidence=0.29629629629629634, lift=3.1080031080031083)]),\n",
       " RelationRecord(items=frozenset({'spaghetti', 'ground beef', 'nan', 'cooking oil'}), support=0.0048, ordered_statistics=[OrderedStatistic(items_base=frozenset({'ground beef', 'cooking oil'}), items_add=frozenset({'spaghetti', 'nan'}), confidence=0.5714285714285714, lift=3.281557646029315), OrderedStatistic(items_base=frozenset({'spaghetti', 'cooking oil'}), items_add=frozenset({'nan', 'ground beef'}), confidence=0.30252100840336127, lift=3.0785719986773534), OrderedStatistic(items_base=frozenset({'ground beef', 'nan', 'cooking oil'}), items_add=frozenset({'spaghetti'}), confidence=0.5714285714285714, lift=3.281557646029315), OrderedStatistic(items_base=frozenset({'spaghetti', 'nan', 'cooking oil'}), items_add=frozenset({'ground beef'}), confidence=0.30252100840336127, lift=3.0785719986773534)]),\n",
       " RelationRecord(items=frozenset({'frozen vegetables', 'spaghetti', 'nan', 'ground beef'}), support=0.008666666666666666, ordered_statistics=[OrderedStatistic(items_base=frozenset({'frozen vegetables', 'spaghetti'}), items_add=frozenset({'nan', 'ground beef'}), confidence=0.3110047846889952, lift=3.164906221394116), OrderedStatistic(items_base=frozenset({'frozen vegetables', 'spaghetti', 'nan'}), items_add=frozenset({'ground beef'}), confidence=0.3110047846889952, lift=3.164906221394116)]),\n",
       " RelationRecord(items=frozenset({'spaghetti', 'frozen vegetables', 'mineral water', 'milk'}), support=0.004533333333333334, ordered_statistics=[OrderedStatistic(items_base=frozenset({'spaghetti', 'milk', 'mineral water'}), items_add=frozenset({'frozen vegetables'}), confidence=0.28813559322033905, lift=3.0224013274860737)]),\n",
       " RelationRecord(items=frozenset({'frozen vegetables', 'olive oil', 'milk', 'nan'}), support=0.0048, ordered_statistics=[OrderedStatistic(items_base=frozenset({'frozen vegetables', 'milk'}), items_add=frozenset({'olive oil', 'nan'}), confidence=0.20338983050847456, lift=3.094165778526489), OrderedStatistic(items_base=frozenset({'frozen vegetables', 'olive oil'}), items_add=frozenset({'milk', 'nan'}), confidence=0.4235294117647058, lift=3.26797385620915), OrderedStatistic(items_base=frozenset({'frozen vegetables', 'milk', 'nan'}), items_add=frozenset({'olive oil'}), confidence=0.20338983050847456, lift=3.094165778526489), OrderedStatistic(items_base=frozenset({'frozen vegetables', 'olive oil', 'nan'}), items_add=frozenset({'milk'}), confidence=0.4235294117647058, lift=3.26797385620915)]),\n",
       " RelationRecord(items=frozenset({'shrimp', 'frozen vegetables', 'mineral water', 'nan'}), support=0.0072, ordered_statistics=[OrderedStatistic(items_base=frozenset({'shrimp', 'mineral water'}), items_add=frozenset({'frozen vegetables', 'nan'}), confidence=0.3068181818181818, lift=3.2183725365543547), OrderedStatistic(items_base=frozenset({'shrimp', 'mineral water', 'nan'}), items_add=frozenset({'frozen vegetables'}), confidence=0.3068181818181818, lift=3.2183725365543547)]),\n",
       " RelationRecord(items=frozenset({'frozen vegetables', 'spaghetti', 'olive oil', 'nan'}), support=0.005733333333333333, ordered_statistics=[OrderedStatistic(items_base=frozenset({'frozen vegetables', 'spaghetti'}), items_add=frozenset({'olive oil', 'nan'}), confidence=0.20574162679425836, lift=3.1299436124887174), OrderedStatistic(items_base=frozenset({'frozen vegetables', 'spaghetti', 'nan'}), items_add=frozenset({'olive oil'}), confidence=0.20574162679425836, lift=3.1299436124887174)]),\n",
       " RelationRecord(items=frozenset({'shrimp', 'frozen vegetables', 'spaghetti', 'nan'}), support=0.006, ordered_statistics=[OrderedStatistic(items_base=frozenset({'frozen vegetables', 'spaghetti'}), items_add=frozenset({'shrimp', 'nan'}), confidence=0.21531100478468898, lift=3.0183785717479763), OrderedStatistic(items_base=frozenset({'frozen vegetables', 'spaghetti', 'nan'}), items_add=frozenset({'shrimp'}), confidence=0.21531100478468898, lift=3.0183785717479763)]),\n",
       " RelationRecord(items=frozenset({'frozen vegetables', 'spaghetti', 'tomatoes', 'nan'}), support=0.006666666666666667, ordered_statistics=[OrderedStatistic(items_base=frozenset({'frozen vegetables', 'spaghetti'}), items_add=frozenset({'tomatoes', 'nan'}), confidence=0.23923444976076555, lift=3.497579674864993), OrderedStatistic(items_base=frozenset({'spaghetti', 'tomatoes'}), items_add=frozenset({'frozen vegetables', 'nan'}), confidence=0.3184713375796178, lift=3.340608436149837), OrderedStatistic(items_base=frozenset({'frozen vegetables', 'spaghetti', 'nan'}), items_add=frozenset({'tomatoes'}), confidence=0.23923444976076555, lift=3.497579674864993), OrderedStatistic(items_base=frozenset({'spaghetti', 'tomatoes', 'nan'}), items_add=frozenset({'frozen vegetables'}), confidence=0.3184713375796178, lift=3.340608436149837)]),\n",
       " RelationRecord(items=frozenset({'grated cheese', 'spaghetti', 'nan', 'ground beef'}), support=0.005333333333333333, ordered_statistics=[OrderedStatistic(items_base=frozenset({'grated cheese', 'spaghetti'}), items_add=frozenset({'nan', 'ground beef'}), confidence=0.3225806451612903, lift=3.282706701098612), OrderedStatistic(items_base=frozenset({'grated cheese', 'spaghetti', 'nan'}), items_add=frozenset({'ground beef'}), confidence=0.3225806451612903, lift=3.282706701098612)]),\n",
       " RelationRecord(items=frozenset({'herb & pepper', 'mineral water', 'nan', 'ground beef'}), support=0.006666666666666667, ordered_statistics=[OrderedStatistic(items_base=frozenset({'herb & pepper', 'mineral water'}), items_add=frozenset({'nan', 'ground beef'}), confidence=0.390625, lift=3.975152645861601), OrderedStatistic(items_base=frozenset({'herb & pepper', 'mineral water', 'nan'}), items_add=frozenset({'ground beef'}), confidence=0.390625, lift=3.975152645861601)]),\n",
       " RelationRecord(items=frozenset({'herb & pepper', 'spaghetti', 'nan', 'ground beef'}), support=0.0064, ordered_statistics=[OrderedStatistic(items_base=frozenset({'herb & pepper', 'spaghetti'}), items_add=frozenset({'nan', 'ground beef'}), confidence=0.3934426229508197, lift=4.003825878061259), OrderedStatistic(items_base=frozenset({'herb & pepper', 'spaghetti', 'nan'}), items_add=frozenset({'ground beef'}), confidence=0.3934426229508197, lift=4.003825878061259)]),\n",
       " RelationRecord(items=frozenset({'milk', 'olive oil', 'nan', 'ground beef'}), support=0.004933333333333333, ordered_statistics=[OrderedStatistic(items_base=frozenset({'milk', 'ground beef'}), items_add=frozenset({'olive oil', 'nan'}), confidence=0.22424242424242424, lift=3.411395906324912), OrderedStatistic(items_base=frozenset({'milk', 'nan', 'ground beef'}), items_add=frozenset({'olive oil'}), confidence=0.22424242424242424, lift=3.411395906324912)]),\n",
       " RelationRecord(items=frozenset({'shrimp', 'spaghetti', 'nan', 'ground beef'}), support=0.006, ordered_statistics=[OrderedStatistic(items_base=frozenset({'shrimp', 'ground beef'}), items_add=frozenset({'spaghetti', 'nan'}), confidence=0.5232558139534884, lift=3.004914704939635), OrderedStatistic(items_base=frozenset({'shrimp', 'nan', 'ground beef'}), items_add=frozenset({'spaghetti'}), confidence=0.5232558139534884, lift=3.004914704939635)]),\n",
       " RelationRecord(items=frozenset({'milk', 'spaghetti', 'olive oil', 'nan'}), support=0.0072, ordered_statistics=[OrderedStatistic(items_base=frozenset({'milk', 'spaghetti'}), items_add=frozenset({'olive oil', 'nan'}), confidence=0.20300751879699247, lift=3.0883496774390333), OrderedStatistic(items_base=frozenset({'milk', 'spaghetti', 'nan'}), items_add=frozenset({'olive oil'}), confidence=0.20300751879699247, lift=3.0883496774390333)]),\n",
       " RelationRecord(items=frozenset({'olive oil', 'mineral water', 'soup', 'nan'}), support=0.0052, ordered_statistics=[OrderedStatistic(items_base=frozenset({'mineral water', 'soup'}), items_add=frozenset({'olive oil', 'nan'}), confidence=0.2254335260115607, lift=3.4295161157945335), OrderedStatistic(items_base=frozenset({'mineral water', 'soup', 'nan'}), items_add=frozenset({'olive oil'}), confidence=0.2254335260115607, lift=3.4295161157945335)]),\n",
       " RelationRecord(items=frozenset({'olive oil', 'spaghetti', 'pancakes', 'nan'}), support=0.005066666666666666, ordered_statistics=[OrderedStatistic(items_base=frozenset({'spaghetti', 'pancakes'}), items_add=frozenset({'olive oil', 'nan'}), confidence=0.20105820105820105, lift=3.0586947422647217), OrderedStatistic(items_base=frozenset({'spaghetti', 'pancakes', 'nan'}), items_add=frozenset({'olive oil'}), confidence=0.20105820105820105, lift=3.0586947422647217)]),\n",
       " RelationRecord(items=frozenset({'frozen vegetables', 'milk', 'nan', 'spaghetti', 'mineral water'}), support=0.004533333333333334, ordered_statistics=[OrderedStatistic(items_base=frozenset({'spaghetti', 'milk', 'mineral water'}), items_add=frozenset({'frozen vegetables', 'nan'}), confidence=0.28813559322033905, lift=3.0224013274860737), OrderedStatistic(items_base=frozenset({'spaghetti', 'milk', 'mineral water', 'nan'}), items_add=frozenset({'frozen vegetables'}), confidence=0.28813559322033905, lift=3.0224013274860737)])]"
      ]
     },
     "execution_count": 29,
     "metadata": {},
     "output_type": "execute_result"
    }
   ],
   "source": [
    "association_results"
   ]
  }
 ],
 "metadata": {
  "kernelspec": {
   "display_name": "Python 3 (ipykernel)",
   "language": "python",
   "name": "python3"
  },
  "language_info": {
   "codemirror_mode": {
    "name": "ipython",
    "version": 3
   },
   "file_extension": ".py",
   "mimetype": "text/x-python",
   "name": "python",
   "nbconvert_exporter": "python",
   "pygments_lexer": "ipython3",
   "version": "3.9.13"
  }
 },
 "nbformat": 4,
 "nbformat_minor": 5
}
